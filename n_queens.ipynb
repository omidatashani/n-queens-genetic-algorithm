{
  "nbformat": 4,
  "nbformat_minor": 0,
  "metadata": {
    "colab": {
      "provenance": []
    },
    "kernelspec": {
      "name": "python3",
      "display_name": "Python 3"
    },
    "language_info": {
      "name": "python"
    }
  },
  "cells": [
    {
      "cell_type": "code",
      "source": [
        "import random\n",
        "import matplotlib.pyplot as plt\n",
        "import matplotlib.patches as patches\n",
        "\n",
        "def fitness(individual):\n",
        "    horizontal_collisions = sum([individual.count(queen) - 1 for queen in individual]) // 2\n",
        "    diagonal_collisions = 0\n",
        "\n",
        "    for i in range(len(individual)):\n",
        "        for j in range(i + 1, len(individual)):\n",
        "            if i - individual[i] == j - individual[j] or i + individual[i] == j + individual[j]:\n",
        "                diagonal_collisions += 1\n",
        "\n",
        "    return max(0, len(individual) - (horizontal_collisions + diagonal_collisions))\n",
        "\n",
        "def create_individual(n):\n",
        "    return [random.randint(0, n - 1) for _ in range(n)]\n",
        "\n",
        "def crossover(parent1, parent2):\n",
        "    crossover_point = random.randint(1, len(parent1) - 1)\n",
        "    child1 = parent1[:crossover_point] + parent2[crossover_point:]\n",
        "    child2 = parent2[:crossover_point] + parent1[crossover_point:]\n",
        "    return child1, child2\n",
        "\n",
        "def mutate(individual):\n",
        "    index = random.randint(0, len(individual) - 1)\n",
        "    individual[index] = random.randint(0, len(individual) - 1)\n",
        "    return individual\n",
        "\n",
        "def selection(population, fitnesses, k=3):\n",
        "    selected_indices = random.sample(range(len(population)), k)\n",
        "    selected_fitnesses = [fitnesses[i] for i in selected_indices]\n",
        "    best_index = selected_indices[selected_fitnesses.index(max(selected_fitnesses))]\n",
        "    return population[best_index]\n",
        "\n",
        "def n_queens_genetic_algorithm(n, population_size=100, generations=100, crossover_prob=0.8, mutation_prob=0.2):\n",
        "    population = [create_individual(n) for _ in range(population_size)]\n",
        "    fitnesses = [fitness(individual) for individual in population]\n",
        "\n",
        "    for gen in range(generations):\n",
        "        new_population = []\n",
        "\n",
        "        for _ in range(population_size // 2):\n",
        "            parent1 = selection(population, fitnesses)\n",
        "            parent2 = selection(population, fitnesses)\n",
        "\n",
        "            if random.random() < crossover_prob:\n",
        "                child1, child2 = crossover(parent1, parent2)\n",
        "            else:\n",
        "                child1, child2 = parent1, parent2\n",
        "\n",
        "            if random.random() < mutation_prob:\n",
        "                child1 = mutate(child1)\n",
        "\n",
        "            if random.random() < mutation_prob:\n",
        "                child2 = mutate(child2)\n",
        "\n",
        "            new_population.append(child1)\n",
        "            new_population.append(child2)\n",
        "\n",
        "        population = new_population\n",
        "        fitnesses = [fitness(individual) for individual in population]\n",
        "\n",
        "        best_individual = population[fitnesses.index(max(fitnesses))]\n",
        "        best_fitness = max(fitnesses)\n",
        "\n",
        "        if best_fitness == n:\n",
        "            break\n",
        "\n",
        "    return best_individual"
      ],
      "metadata": {
        "id": "w_dvSoV8jXJX"
      },
      "execution_count": 3,
      "outputs": []
    },
    {
      "cell_type": "code",
      "source": [
        "def visualize_solution(solution):\n",
        "    n = len(solution)\n",
        "    fig, ax = plt.subplots()\n",
        "    for i in range(n):\n",
        "        for j in range(n):\n",
        "            if (i + j) % 2 == 0:\n",
        "                color = 'white'\n",
        "            else:\n",
        "                color = 'gray'\n",
        "            ax.add_patch(patches.Rectangle((i, j), 1, 1, facecolor=color))\n",
        "\n",
        "    for i, j in enumerate(solution):\n",
        "        ax.add_patch(patches.Circle((i + 0.5, j + 0.5), 0.3, facecolor='red'))\n",
        "\n",
        "    ax.set_xlim(0, n)\n",
        "    ax.set_ylim(0, n)\n",
        "    ax.set_aspect('equal')\n",
        "    plt.gca().invert_yaxis()\n",
        "    plt.axis('off')\n",
        "    plt.show()\n",
        "\n",
        "if __name__ == \"__main__\":\n",
        "    n = 8\n",
        "    solution = n_queens_genetic_algorithm(n)\n",
        "    print(\"Solution:\", solution)\n",
        "    print(\"Fitness:\", fitness(solution))\n",
        "    visualize_solution(solution)"
      ],
      "metadata": {
        "colab": {
          "base_uri": "https://localhost:8080/",
          "height": 440
        },
        "id": "zrfg1mpsjV2W",
        "outputId": "b9331b3b-7164-4a82-912c-2b19b6187e8c"
      },
      "execution_count": 4,
      "outputs": [
        {
          "output_type": "stream",
          "name": "stdout",
          "text": [
            "Solution: [3, 1, 7, 5, 0, 2, 4, 6]\n",
            "Fitness: 8\n"
          ]
        },
        {
          "output_type": "display_data",
          "data": {
            "text/plain": [
              "<Figure size 640x480 with 1 Axes>"
            ],
            "image/png": "[encoded data removed]"
          },
          "metadata": {}
        }
      ]
    }
  ]
}